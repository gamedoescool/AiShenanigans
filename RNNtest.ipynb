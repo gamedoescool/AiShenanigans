{
 "cells": [
  {
   "cell_type": "code",
   "execution_count": 126,
   "metadata": {},
   "outputs": [],
   "source": [
    "import tensorflow as tf\n",
    "import numpy as np\n",
    "from numpy import ndarray\n",
    "import matplotlib.pyplot as plt\n",
    "import copy"
   ]
  },
  {
   "cell_type": "code",
   "execution_count": 127,
   "metadata": {},
   "outputs": [],
   "source": [
    "class NerualNet:\n",
    "    def __init__(self, layers):\n",
    "        self.layers = layers\n",
    "        self.input = None\n",
    "    def clear(self):\n",
    "        self.input = None\n",
    "        for k in self.layers:\n",
    "            k.clear()\n",
    "    def fowardPass(self,input):\n",
    "        self.input = input\n",
    "        output = input\n",
    "        for k in self.layers:\n",
    "            output = k.feedfoward(output)\n",
    "        return output\n",
    "    def backProp(self,gradient,lr=1):\n",
    "        gradInput = gradient\n",
    "        for k in self.layers[::-1]:\n",
    "            gradInput = k.backprop(gradInput,lr)\n",
    "        return gradInput\n",
    "    \n",
    "class Dense:\n",
    "    def __init__(self,inputAmount,outputAmount,w=None,b=None):\n",
    "        if not np.all(w):\n",
    "            self.w = 10*np.random.random_sample(size=(outputAmount,inputAmount))\n",
    "        else:\n",
    "            self.w = w\n",
    "        if not np.all(b):\n",
    "            self.b = 10*np.random.random_sample(size=(outputAmount,1))      \n",
    "        else:\n",
    "            self.b = b\n",
    "        self.input = None\n",
    "    def clear(self):\n",
    "        self.input = None\n",
    "    def feedfoward(self,input):\n",
    "        self.input = input\n",
    "        return self.w @ self.input + self.b\n",
    "    def ein(self,x,y):\n",
    "        return np.einsum(\"i,j -> ij\",x.T[0],y.T[0])\n",
    "    def backprop(self,grad,lr=1):\n",
    "        dz = grad\n",
    "        self.w -= lr*self.ein(dz,self.input)\n",
    "        self.b -= lr*dz\n",
    "        return self.w.T @ dz\n",
    "class act:\n",
    "    def __init__(self):\n",
    "        self.a_0 = None\n",
    "        self.mask = None\n",
    "        self.mask1 = None\n",
    "    def feedfoward(self,a_0):\n",
    "        self.a_0 = a_0\n",
    "        self.mask = (a_0 >= 0)\n",
    "        self.mask1 = (a_0 < 0)\n",
    "        a = np.zeros_like(a_0)\n",
    "        a[self.mask] = self.a_0[self.mask]+1\n",
    "        a[self.mask1] = np.exp(self.a_0[self.mask1])\n",
    "        return a\n",
    "    def backprop(self,dz,lr=1):\n",
    "        a = np.zeros_like(self.a_0)\n",
    "        a[self.mask] = 1\n",
    "        a[self.mask1] = np.exp(self.a_0[self.mask1])\n",
    "        return dz * a\n",
    "class softmax:\n",
    "    def __init__(self):\n",
    "        self.input = None\n",
    "        pass\n",
    "    def feedfoward(self,input):\n",
    "        self.input = input\n",
    "        return self.input/(np.sum(self.input)+1e-10)\n",
    "    def backprop(self,grad,lr=1):\n",
    "        summation = np.sum(self.input) + 1e-10\n",
    "        return grad * (1/summation-self.input/(summation**2))\n",
    "        \n"
   ]
  },
  {
   "cell_type": "code",
   "execution_count": 128,
   "metadata": {},
   "outputs": [],
   "source": [
    "class ANN:\n",
    "    def __init__(self,*layers):\n",
    "        self.model = NerualNet(list(layers))\n",
    "    def compute(self,inp):\n",
    "        return self.model.fowardPass(inp)\n",
    "    def gradDescent(self,inputs,outputs,lr,epochs,returnAcc = False):\n",
    "        acc = []\n",
    "        for i in range(epochs):\n",
    "            for (input,output) in zip(inputs,outputs):\n",
    "                dz = 2*(self.compute(input)-output)\n",
    "                self.model.backProp(dz,lr)\n",
    "            if(returnAcc):\n",
    "                acc.append(self.testAcc2(inputs,outputs))\n",
    "        return acc\n",
    "    def testAccuracy(self,inputs,outputs):\n",
    "        error = 0\n",
    "        for(input, output) in zip(inputs,outputs):\n",
    "            if(np.argmax(self.compute(input)) != output):\n",
    "                error +=1\n",
    "        return 1-error/len(inputs)\n",
    "    def testAcc2(self,inputs,outputs):\n",
    "        error = 0\n",
    "        for(input, output) in zip(inputs,outputs):\n",
    "            if(np.argmax(self.compute(input)) != np.argmax(output)):\n",
    "                error +=1\n",
    "        return 1-error/len(inputs)"
   ]
  },
  {
   "cell_type": "code",
   "execution_count": 129,
   "metadata": {},
   "outputs": [
    {
     "name": "stdout",
     "output_type": "stream",
     "text": [
      "1\n"
     ]
    }
   ],
   "source": [
    "x = [1,2]\n",
    "for k in x[len(x)-2::-1]:\n",
    "    print(k)"
   ]
  },
  {
   "cell_type": "code",
   "execution_count": 130,
   "metadata": {},
   "outputs": [],
   "source": [
    "mnist = tf.keras.datasets.mnist\n",
    "(x_train, y_train), (x_test, y_test) = mnist.load_data()\n",
    "x_train = x_train.reshape(x_train.shape[0], -1,1) / 255  # input for training\n",
    "x_test = x_test.reshape(x_test.shape[0], -1,1) / 255  # input for testing\n",
    "y_train = y_train.reshape(60_000,1)\n",
    "def encode(input):\n",
    "    z = np.array([[0, 0, 0, 0, 0, 0, 0, 0, 0, 0]])\n",
    "    z[0][input] = 1\n",
    "    return np.transpose(z)\n",
    "output_test = np.apply_along_axis(encode,1,y_train)"
   ]
  },
  {
   "cell_type": "code",
   "execution_count": 131,
   "metadata": {},
   "outputs": [],
   "source": [
    "params = np.load(\"params.npz\")"
   ]
  },
  {
   "cell_type": "code",
   "execution_count": 132,
   "metadata": {},
   "outputs": [],
   "source": [
    "model = ANN(Dense(784,15,params[\"w0\"],params[\"b0\"]),act(),softmax(),Dense(15,10,params[\"w1\"],params[\"b1\"]),act(),softmax()) # saved model"
   ]
  },
  {
   "cell_type": "code",
   "execution_count": 133,
   "metadata": {},
   "outputs": [
    {
     "data": {
      "text/plain": [
       "0.9473833333333334"
      ]
     },
     "execution_count": 133,
     "metadata": {},
     "output_type": "execute_result"
    }
   ],
   "source": [
    "model.testAcc2(x_train,output_test)"
   ]
  },
  {
   "cell_type": "code",
   "execution_count": 134,
   "metadata": {},
   "outputs": [],
   "source": [
    "model = ANN(Dense(784,15),act(),softmax(),Dense(15,10),act(),softmax())"
   ]
  },
  {
   "cell_type": "code",
   "execution_count": 139,
   "metadata": {},
   "outputs": [],
   "source": [
    "y = model.gradDescent(x_train,output_test,4.0,5,True)"
   ]
  },
  {
   "cell_type": "code",
   "execution_count": 140,
   "metadata": {},
   "outputs": [
    {
     "data": {
      "image/png": "[encoded data removed]",
      "text/plain": [
       "<Figure size 640x480 with 1 Axes>"
      ]
     },
     "metadata": {},
     "output_type": "display_data"
    }
   ],
   "source": [
    "plt.plot(y)\n",
    "plt.ylabel(\"accuracy (from 0.0 to 1.0)\")\n",
    "plt.xlabel(\"Δepoch\")\n",
    "plt.show()"
   ]
  },
  {
   "cell_type": "code",
   "execution_count": 141,
   "metadata": {},
   "outputs": [
    {
     "data": {
      "text/plain": [
       "[0.15498333333333336,\n",
       " 0.20525000000000004,\n",
       " 0.2076,\n",
       " 0.30138333333333334,\n",
       " 0.5692833333333334]"
      ]
     },
     "execution_count": 141,
     "metadata": {},
     "output_type": "execute_result"
    }
   ],
   "source": [
    "y"
   ]
  }
 ],
 "metadata": {
  "kernelspec": {
   "display_name": "Python 3",
   "language": "python",
   "name": "python3"
  },
  "language_info": {
   "codemirror_mode": {
    "name": "ipython",
    "version": 3
   },
   "file_extension": ".py",
   "mimetype": "text/x-python",
   "name": "python",
   "nbconvert_exporter": "python",
   "pygments_lexer": "ipython3",
   "version": "3.8.6"
  }
 },
 "nbformat": 4,
 "nbformat_minor": 2
}
