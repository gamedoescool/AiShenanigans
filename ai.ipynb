{
 "cells": [
  {
   "cell_type": "code",
   "execution_count": 1,
   "metadata": {},
   "outputs": [],
   "source": [
    "import tensorflow as tf\n",
    "import numpy as np\n",
    "from numpy import ndarray\n",
    "import matplotlib.pyplot as plt\n",
    "import copy\n"
   ]
  },
  { 
   "cell_type": "code",
   "execution_count": 2,
   "metadata": {},
   "outputs": [],
   "source": [
    "class Dense:\n",
    "    def __init__(self,inputAmnt: int, outputAmnt: int,w = None,b = None):\n",
    "        if not np.all(w):\n",
    "            self.w = 10*np.random.random_sample(size=(outputAmnt,inputAmnt))\n",
    "        else:\n",
    "            self.w = w\n",
    "        self.dw = np.zeros_like(self.w)\n",
    "        if not np.all(b):\n",
    "            self.b =  10*np.random.random_sample(size=(outputAmnt,1))\n",
    "        else:\n",
    "            self.b = b\n",
    "        self.db = np.zeros_like(self.b)\n",
    "        self.iterator = 0\n",
    "        self.a = None\n",
    "    def ein(self,x,y):\n",
    "        return np.einsum(\"i,j -> ij\",np.transpose(x)[0],np.transpose(y)[0])\n",
    "    def feedfoward(self,a_0):\n",
    "        self.a = a_0\n",
    "        return  self.w @ a_0 + self.b\n",
    "\n",
    "    def backprop(self, alpha,dz,batch_size):\n",
    "        self.iterator+=1\n",
    "        self.db += alpha * dz\n",
    "        self.dw += alpha * self.ein(dz,self.a)\n",
    "        if(self.iterator == batch_size):\n",
    "            self.w -= self.dw\n",
    "            self.dw -= self.dw\n",
    "            self.b -= self.db\n",
    "            self.db -= self.db\n",
    "            self.iterator = 0\n",
    "        return np.transpose(self.w) @ dz\n",
    "class softmax:\n",
    "    def __init__(self):\n",
    "        self.a_0 = None\n",
    "    def feedfoward(self,a_0):\n",
    "        self.a_0 = a_0\n",
    "        return a_0/(np.sum(a_0)+1e-10)\n",
    "    \n",
    "    def backprop(self,alpha,dz,batch_size):\n",
    "        summation = np.sum(self.a_0) + 1e-10\n",
    "        return dz * (1/summation-self.a_0/(summation**2))\n",
    "class act:\n",
    "    def __init__(self):\n",
    "        self.a_0 = None\n",
    "        self.mask = None\n",
    "        self.mask1 = None\n",
    "    def feedfoward(self,a_0):\n",
    "        self.a_0 = a_0\n",
    "        self.mask = (a_0 >= 0)\n",
    "        self.mask1 = (a_0 < 0)\n",
    "        a = np.zeros_like(a_0)\n",
    "        a[self.mask] = self.a_0[self.mask]+1\n",
    "        a[self.mask1] = np.exp(self.a_0[self.mask1])\n",
    "        return a\n",
    "    \n",
    "    def backprop(self,alpha,dz,batch_size):\n",
    "        a = np.zeros_like(self.a_0)\n",
    "        a[self.mask] = 1\n",
    "        a[self.mask1] = np.exp(self.a_0[self.mask1])\n",
    "        return dz * a\n",
    "class ConvlutionLayer:\n",
    "    def __init__(self,length,kernal=None):\n",
    "        if(not kernal):\n",
    "            self.kernal = np.random.random_sample(size=(length))\n",
    "        else:\n",
    "            self.kernal = kernal\n",
    "        \n",
    "\n",
    "class ANN:\n",
    "    def __init__(self,*layers):\n",
    "        self.layers = list(layers)\n",
    "    def compute(self,inp):\n",
    "        output = inp\n",
    "        for layer in self.layers:\n",
    "            output = layer.feedfoward(output)\n",
    "        return output\n",
    "    def gradDescent(self,inputs,outputs,lr,epochs,returnAcc = False,BATCH_SIZE=1):\n",
    "        acc = []\n",
    "        for i in range(epochs):\n",
    "            iterator = 0\n",
    "            for (input,output) in zip(inputs,outputs):\n",
    "                dz = 2*(self.compute(input)-output)\n",
    "                for layer in self.layers[::-1]:\n",
    "                    dz = layer.backprop(lr,dz,BATCH_SIZE)\n",
    "            if(returnAcc):\n",
    "                acc.append(self.testAcc2(inputs,outputs))\n",
    "        return acc\n",
    "    def testAccuracy(self,inputs,outputs):\n",
    "        error = 0\n",
    "        for(input, output) in zip(inputs,outputs):\n",
    "            if(np.argmax(self.compute(input)) != output):\n",
    "                error +=1\n",
    "        return 1-error/len(inputs)\n",
    "    def testAcc2(self,inputs,outputs):\n",
    "        error = 0\n",
    "        for(input, output) in zip(inputs,outputs):\n",
    "            if(np.argmax(self.compute(input)) != np.argmax(output)):\n",
    "                error +=1\n",
    "        return 1-error/len(inputs)"
   ]
  },
  {
   "cell_type": "code",
   "execution_count": 3,
   "metadata": {},
   "outputs": [],
   "source": [
    "mnist = tf.keras.datasets.mnist\n",
    "(x_train, y_train), (x_test, y_test) = mnist.load_data()\n",
    "x_train = x_train.reshape(x_train.shape[0], -1,1) / 255  # input for training\n",
    "x_test = x_test.reshape(x_test.shape[0], -1,1) / 255  # input for testing\n",
    "y_train = y_train.reshape(60_000,1)\n",
    "def encode(input):\n",
    "    z = np.array([[0, 0, 0, 0, 0, 0, 0, 0, 0, 0]])\n",
    "    z[0][input] = 1\n",
    "    return np.transpose(z)\n",
    "output_test = np.apply_along_axis(encode,1,y_train)\n"
   ]
  },
  {
   "cell_type": "code",
   "execution_count": 4,
   "metadata": {},
   "outputs": [],
   "source": [
    "params = np.load(\"params.npz\")"
   ]
  },
  {
   "cell_type": "code",
   "execution_count": 5,
   "metadata": {},
   "outputs": [],
   "source": [
    "model = ANN(Dense(784,15,params[\"w0\"],params[\"b0\"]),act(),softmax(),Dense(15,10,params[\"w1\"],params[\"b1\"]),act(),softmax()) # saved model"
   ]
  },
  {
   "cell_type": "code",
   "execution_count": 180,
   "metadata": {},
   "outputs": [],
   "source": [
    "np.savez(\"params.npz\",w0=model.layers[0].w,b0=model.layers[0].b,w1=model.layers[3].w,b1=model.layers[3].b) "
   ]
  },
  {
   "cell_type": "code",
   "execution_count": 6,
   "metadata": {},
   "outputs": [
    {
     "data": {
      "text/plain": [
       "0.9473833333333334"
      ]
     },
     "execution_count": 6,
     "metadata": {},
     "output_type": "execute_result"
    }
   ],
   "source": [
    "model.testAcc2(x_train,output_test)"
   ]
  },
  {
   "cell_type": "code",
   "execution_count": 7,
   "metadata": {},
   "outputs": [
    {
     "data": {
      "text/plain": [
       "0.9348"
      ]
     },
     "execution_count": 7,
     "metadata": {},
     "output_type": "execute_result"
    }
   ],
   "source": [
    "model.testAccuracy(x_test,y_test)"
   ]
  },
  {
   "cell_type": "code",
   "execution_count": 185,
   "metadata": {},
   "outputs": [],
   "source": [
    "y = model.gradDescent(x_train,output_test,lr=5,epochs=10,BATCH_SIZE=10,returnAcc=True)"
   ]
  },
  {
   "cell_type": "code",
   "execution_count": 186,
   "metadata": {},
   "outputs": [
    {
     "name": "stdout",
     "output_type": "stream",
     "text": [
      "[0.9473, 0.94735, 0.9472666666666667, 0.9471333333333334, 0.9471833333333334, 0.9470833333333333, 0.9470333333333333, 0.94695, 0.9469166666666666, 0.94695]\n"
     ]
    }
   ],
   "source": [
    "print(y)"
   ]
  },
  {
   "cell_type": "code",
   "execution_count": 187,
   "metadata": {},
   "outputs": [
    {
     "data": {
      "image/png": "[encoded data removed]",
      "text/plain": [
       "<Figure size 640x480 with 1 Axes>"
      ]
     },
     "metadata": {},
     "output_type": "display_data"
    }
   ],
   "source": [
    "plt.plot(y)\n",
    "plt.ylabel(\"accuracy (form 0.0 to 1.0)\")\n",
    "plt.xlabel(\"epochs\")\n",
    "plt.show()"
   ]
  },
  {
   "cell_type": "code",
   "execution_count": 8,
   "metadata": {},
   "outputs": [
    {
     "data": {
      "image/png": "[encoded data removed]",
      "text/plain": [
       "<Figure size 640x480 with 1 Axes>"
      ]
     },
     "metadata": {},
     "output_type": "display_data"
    },
    {
     "name": "stdout",
     "output_type": "stream",
     "text": [
      "ai prediction 8\n"
     ]
    }
   ],
   "source": [
    "imageIndex = 1009\n",
    "x = x_train[imageIndex].reshape(28,28)\n",
    "plt.imshow(x,cmap='gray')\n",
    "plt.title(f\"Label: {y_train[imageIndex]}\")\n",
    "plt.axis('off')\n",
    "plt.show()\n",
    "print(f\"ai prediction {np.argmax(model.compute(x_train[imageIndex]))}\")"
   ]
  },
  {
   "cell_type": "code",
   "execution_count": 289,
   "metadata": {},
   "outputs": [],
   "source": [
    "z0 = model.layers[0]\n",
    "z3 = model.layers[3]\n",
    "np.savez(\"params.npz\",w0=z0.w,b0=z0.b,w1=z3.w,b1=z3.b)\n",
    "#saved the model (current is 90 pct, do not save unless you have found a better one)\n",
    "#archetecture is Dense, act,softmax,Dense,act,softmax"
   ]
  }
 ],
 "metadata": {
  "kernelspec": {
   "display_name": "Python 3",
   "language": "python",
   "name": "python3"
  },
  "language_info": {
   "codemirror_mode": {
    "name": "ipython",
    "version": 3
   },
   "file_extension": ".py",
   "mimetype": "text/x-python",
   "name": "python",
   "nbconvert_exporter": "python",
   "pygments_lexer": "ipython3",
   "version": "3.8.6"
  }
 },
 "nbformat": 4,
 "nbformat_minor": 2
}
