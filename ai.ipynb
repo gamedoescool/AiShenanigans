{
 "cells": [
  {
   "cell_type": "code",
   "execution_count": 4,
   "metadata": {},
   "outputs": [],
   "source": [
    "import tensorflow as tf\n",
    "import numpy as np\n",
    "from numpy import ndarray\n",
    "import matplotlib.pyplot as plt\n",
    "import copy\n"
   ]
  },
  {
   "cell_type": "code",
   "execution_count": 120,
   "metadata": {},
   "outputs": [],
   "source": [
    "class Dense:\n",
    "    def __init__(self,inputAmnt: int, outputAmnt: int):\n",
    "        self.w = 10*np.random.random_sample(size=(outputAmnt,inputAmnt))\n",
    "        self.b =  10*np.random.random_sample(size=(outputAmnt,1))\n",
    "        self.a = None\n",
    "    def ein(self,x,y):\n",
    "        return np.einsum(\"i,j -> ij\",np.transpose(x)[0],np.transpose(y)[0])\n",
    "    def feedfoward(self,a_0):\n",
    "        self.a = a_0\n",
    "        return  self.w @ a_0 + self.b\n",
    "\n",
    "    def backprop(self, alpha,dz):\n",
    "        changeB = self.b - alpha * dz\n",
    "        changeW = self.w - alpha * self.ein(dz,self.a)\n",
    "        if(np.all(np.isfinite(changeB))):\n",
    "            self.b = changeB\n",
    "        if(np.all(np.isfinite(changeW))):\n",
    "            self.w = changeW\n",
    "        return np.transpose(self.w) @ dz\n",
    "class softmax:\n",
    "    def __init__(self):\n",
    "        self.a_0 = None\n",
    "    def feedfoward(self,a_0):\n",
    "        self.a_0 = a_0\n",
    "        return a_0/(np.sum(a_0)+1e-10)\n",
    "    \n",
    "    def backprop(self,alpha,dz):\n",
    "        summation = np.sum(self.a_0) + 1e-10\n",
    "        return dz * (1/summation-self.a_0/(summation**2))\n",
    "class act:\n",
    "    def __init__(self):\n",
    "        self.a_0 = None\n",
    "        self.mask = None\n",
    "        self.mask1 = None\n",
    "    def feedfoward(self,a_0):\n",
    "        self.a_0 = a_0\n",
    "        self.mask = (a_0 >= 0)\n",
    "        self.mask1 = (a_0 < 0)\n",
    "        a = np.zeros_like(a_0)\n",
    "        a[self.mask] = self.a_0[self.mask]+1\n",
    "        a[self.mask1] = np.exp(self.a_0[self.mask1])\n",
    "        return a\n",
    "    \n",
    "    def backprop(self,alpha,dz):\n",
    "        a = np.zeros_like(self.a_0)\n",
    "        a[self.mask] = 1\n",
    "        a[self.mask1] = np.exp(self.a_0[self.mask1])\n",
    "        return dz * a\n",
    "class ANN:\n",
    "    def __init__(self,*layers):\n",
    "        self.layers = list(layers)\n",
    "    def compute(self,inp):\n",
    "        output = inp\n",
    "        for layer in self.layers:\n",
    "            output = layer.feedfoward(output)\n",
    "        return output\n",
    "    def gradDescent(self,inputs,outputs,alpha):\n",
    "        for (input,output) in zip(inputs,outputs):\n",
    "            dz = 2*(self.compute(input)-output)\n",
    "            for layer in self.layers[::-1]:\n",
    "                dz = layer.backprop(alpha,dz)"
   ]
  },
  {
   "cell_type": "code",
   "execution_count": 6,
   "metadata": {},
   "outputs": [],
   "source": [
    "mnist = tf.keras.datasets.mnist\n",
    "(x_train, y_train), (x_test, y_test) = mnist.load_data()\n",
    "x_train = x_train.reshape(x_train.shape[0], -1,1) / 255  # input for training\n",
    "x_test = x_test.reshape(x_test.shape[0], -1,1) / 255  # input for testing\n",
    "y_train = y_train.reshape(60_000,1)\n",
    "def encode(input):\n",
    "    z = np.array([[0, 0, 0, 0, 0, 0, 0, 0, 0, 0]])\n",
    "    z[0][input] = 1\n",
    "    return np.transpose(z)\n",
    "output_test = np.apply_along_axis(encode,1,y_train)"
   ]
  },
  {
   "cell_type": "code",
   "execution_count": 121,
   "metadata": {},
   "outputs": [],
   "source": [
    "model = ANN(Dense(784,15),act(),softmax(),Dense(15,10),act(),softmax())"
   ]
  },
  {
   "cell_type": "code",
   "execution_count": 198,
   "metadata": {},
   "outputs": [
    {
     "name": "stderr",
     "output_type": "stream",
     "text": [
      "C:\\Users\\hi_is\\AppData\\Local\\Temp\\ipykernel_4364\\1327267383.py:32: RuntimeWarning: divide by zero encountered in divide\n",
      "  return dz * (1/np.sum(self.a_0)-self.a_0/(np.sum(self.a_0)**2))\n",
      "C:\\Users\\hi_is\\AppData\\Local\\Temp\\ipykernel_4364\\1327267383.py:19: RuntimeWarning: invalid value encountered in matmul\n",
      "  return np.transpose(self.w) @ dz\n"
     ]
    }
   ],
   "source": [
    "model.gradDescent(x_train,output_test,5)"
   ]
  },
  {
   "cell_type": "code",
   "execution_count": 200,
   "metadata": {},
   "outputs": [
    {
     "name": "stdout",
     "output_type": "stream",
     "text": [
      "0.7577666666666667\n"
     ]
    }
   ],
   "source": [
    "global x_train,y_train #0.8980166666666667\n",
    "error = 0\n",
    "i = 0\n",
    "for (input,output) in zip(x_train,y_train):\n",
    "    x = model.compute(input)\n",
    "    if(not np.all(np.isfinite(x))):\n",
    "        x = np.zeros_like(x)\n",
    "    if(np.argmax(x) != output):\n",
    "        error += 1\n",
    "    i+=1\n",
    "print(1-error/60_000)"
   ]
  },
  {
   "cell_type": "code",
   "execution_count": null,
   "metadata": {},
   "outputs": [],
   "source": []
  },
  {
   "cell_type": "code",
   "execution_count": 192,
   "metadata": {},
   "outputs": [],
   "source": [
    "model1 = copy.deepcopy(model)"
   ]
  },
  {
   "cell_type": "code",
   "execution_count": 210,
   "metadata": {},
   "outputs": [
    {
     "name": "stdout",
     "output_type": "stream",
     "text": [
      "0.9001\n"
     ]
    }
   ],
   "source": [
    "global x_test,y_test #\n",
    "error = 0\n",
    "i = 0\n",
    "for (input,output) in zip( x_test,y_test):\n",
    "    x = model1.compute(input)\n",
    "    if(not np.all(np.isfinite(x))):\n",
    "        x = np.zeros_like(x)\n",
    "    if(np.argmax(x) != output):\n",
    "        error += 1\n",
    "    i+=1\n",
    "print(1-error/10_000)"
   ]
  },
  {
   "cell_type": "code",
   "execution_count": 208,
   "metadata": {},
   "outputs": [
    {
     "data": {
      "image/png": "[encoded data removed]",
      "text/plain": [
       "<Figure size 640x480 with 1 Axes>"
      ]
     },
     "metadata": {},
     "output_type": "display_data"
    },
    {
     "name": "stdout",
     "output_type": "stream",
     "text": [
      "ai prediction 3\n",
      "[[2.41674815e-05]\n",
      " [2.10647492e-04]\n",
      " [1.15963652e-04]\n",
      " [9.97517060e-01]\n",
      " [1.78993468e-07]\n",
      " [5.04943617e-04]\n",
      " [6.39666432e-07]\n",
      " [5.43885350e-05]\n",
      " [1.34172592e-03]\n",
      " [2.30284639e-04]]\n"
     ]
    }
   ],
   "source": [
    "imageIndex = 100\n",
    "x = x_train[imageIndex].reshape(28,28)\n",
    "plt.imshow(x,cmap='gray')\n",
    "plt.title(f\"Label: {y_train[imageIndex]}\")\n",
    "plt.axis('off')\n",
    "plt.show()\n",
    "print(f\"ai prediction {np.argmax(model1.compute(x_train[imageIndex]))}\")"
   ]
  },
  {
   "cell_type": "code",
   "execution_count": 202,
   "metadata": {},
   "outputs": [
    {
     "data": {
      "text/plain": [
       "array([[1067.18404551],\n",
       "       [1244.5496394 ],\n",
       "       [ 863.04530673],\n",
       "       [1039.56669428],\n",
       "       [1034.86744111],\n",
       "       [ 989.34024652],\n",
       "       [ 903.70382075],\n",
       "       [ 770.20715381],\n",
       "       [ 932.34373424],\n",
       "       [ 838.12100864],\n",
       "       [ 846.30550135],\n",
       "       [1162.87802482],\n",
       "       [ 717.70298691],\n",
       "       [ 879.983781  ],\n",
       "       [1423.78632831]])"
      ]
     },
     "execution_count": 202,
     "metadata": {},
     "output_type": "execute_result"
    }
   ],
   "source": [
    "k = 25\n",
    "model.layers[1].feedfoward(model.layers[0].w @ x_train[k] + model.layers[0].b)\n"
   ]
  }
 ],
 "metadata": {
  "kernelspec": {
   "display_name": "Python 3",
   "language": "python",
   "name": "python3"
  },
  "language_info": {
   "codemirror_mode": {
    "name": "ipython",
    "version": 3
   },
   "file_extension": ".py",
   "mimetype": "text/x-python",
   "name": "python",
   "nbconvert_exporter": "python",
   "pygments_lexer": "ipython3",
   "version": "3.8.6"
  }
 },
 "nbformat": 4,
 "nbformat_minor": 2
}
