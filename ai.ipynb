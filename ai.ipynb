{
 "cells": [
  {
   "cell_type": "code",
   "execution_count": 4,
   "metadata": {},
   "outputs": [],
   "source": [
    "import tensorflow as tf\n",
    "import numpy as np\n",
    "from numpy import ndarray\n",
    "import matplotlib.pyplot as plt\n",
    "import copy\n"
   ]
  },
  {
   "cell_type": "code",
   "execution_count": 271,
   "metadata": {},
   "outputs": [],
   "source": [
    "class Dense:\n",
    "    def __init__(self,inputAmnt: int, outputAmnt: int,w = None,b = None):\n",
    "        if not w:\n",
    "            self.w = 10*np.random.random_sample(size=(outputAmnt,inputAmnt))\n",
    "        else:\n",
    "            self.w = w\n",
    "        self.allW = []\n",
    "        if not b:\n",
    "            self.b =  10*np.random.random_sample(size=(outputAmnt,1))\n",
    "        else:\n",
    "            self.b = b\n",
    "        self.allB = []\n",
    "        self.a = None\n",
    "    def ein(self,x,y):\n",
    "        return np.einsum(\"i,j -> ij\",np.transpose(x)[0],np.transpose(y)[0])\n",
    "    def feedfoward(self,a_0):\n",
    "        self.a = a_0\n",
    "        return  self.w @ a_0 + self.b\n",
    "\n",
    "    def backprop(self, alpha,dz,paramMemory):\n",
    "        if(paramMemory):\n",
    "            self.allW.append(ndarray.copy(self.w))\n",
    "            self.allB.append(ndarray.copy(self.b))\n",
    "        self.b -= alpha * dz\n",
    "        self.w -= alpha * self.ein(dz,self.a)\n",
    "        return np.transpose(self.w) @ dz\n",
    "class softmax:\n",
    "    def __init__(self):\n",
    "        self.a_0 = None\n",
    "    def feedfoward(self,a_0):\n",
    "        self.a_0 = a_0\n",
    "        return a_0/(np.sum(a_0)+1e-10)\n",
    "    \n",
    "    def backprop(self,alpha,dz,paramMemory):\n",
    "        summation = np.sum(self.a_0) + 1e-10\n",
    "        return dz * (1/summation-self.a_0/(summation**2))\n",
    "class act:\n",
    "    def __init__(self):\n",
    "        self.a_0 = None\n",
    "        self.mask = None\n",
    "        self.mask1 = None\n",
    "    def feedfoward(self,a_0):\n",
    "        self.a_0 = a_0\n",
    "        self.mask = (a_0 >= 0)\n",
    "        self.mask1 = (a_0 < 0)\n",
    "        a = np.zeros_like(a_0)\n",
    "        a[self.mask] = self.a_0[self.mask]+1\n",
    "        a[self.mask1] = np.exp(self.a_0[self.mask1])\n",
    "        return a\n",
    "    \n",
    "    def backprop(self,alpha,dz,paramMemory):\n",
    "        a = np.zeros_like(self.a_0)\n",
    "        a[self.mask] = 1\n",
    "        a[self.mask1] = np.exp(self.a_0[self.mask1])\n",
    "        return dz * a\n",
    "class ANN:\n",
    "    def __init__(self,*layers):\n",
    "        self.layers = list(layers)\n",
    "    def compute(self,inp):\n",
    "        output = inp\n",
    "        for layer in self.layers:\n",
    "            output = layer.feedfoward(output)\n",
    "        return output\n",
    "    def gradDescent(self,inputs,outputs,lr,epochs,paramMemory = False,returnAcc = False):\n",
    "        acc = []\n",
    "        for i in range(epochs):\n",
    "            for (input,output) in zip(inputs,outputs):\n",
    "                dz = 2*(self.compute(input)-output)\n",
    "                for layer in self.layers[::-1]:\n",
    "                    dz = layer.backprop(lr,dz,paramMemory)\n",
    "            if(returnAcc):\n",
    "                acc.append(self.testAcc2(inputs,outputs))\n",
    "        return acc\n",
    "    def testAccuracy(self,inputs,outputs):\n",
    "        error = 0\n",
    "        for(input, output) in zip(inputs,outputs):\n",
    "            if(np.argmax(self.compute(input)) != output):\n",
    "                error +=1\n",
    "        return 1-error/len(inputs)\n",
    "    def testAcc2(self,inputs,outputs):\n",
    "        error = 0\n",
    "        for(input, output) in zip(inputs,outputs):\n",
    "            if(np.argmax(self.compute(input)) != np.argmax(output)):\n",
    "                error +=1\n",
    "        return 1-error/len(inputs)"
   ]
  },
  {
   "cell_type": "code",
   "execution_count": 223,
   "metadata": {},
   "outputs": [],
   "source": [
    "mnist = tf.keras.datasets.mnist\n",
    "(x_train, y_train), (x_test, y_test) = mnist.load_data()\n",
    "x_train = x_train.reshape(x_train.shape[0], -1,1) / 255  # input for training\n",
    "x_test = x_test.reshape(x_test.shape[0], -1,1) / 255  # input for testing\n",
    "y_train = y_train.reshape(60_000,1)\n",
    "def encode(input):\n",
    "    z = np.array([[0, 0, 0, 0, 0, 0, 0, 0, 0, 0]])\n",
    "    z[0][input] = 1\n",
    "    return np.transpose(z)\n",
    "output_test = np.apply_along_axis(encode,1,y_train)\n"
   ]
  },
  {
   "cell_type": "code",
   "execution_count": 272,
   "metadata": {},
   "outputs": [],
   "source": [
    "model = ANN(Dense(784,15),act(),softmax(),Dense(15,10),act(),softmax())"
   ]
  },
  {
   "cell_type": "code",
   "execution_count": 274,
   "metadata": {},
   "outputs": [],
   "source": [
    "x = model.gradDescent(x_train,output_test,5,5,False,True)"
   ]
  },
  {
   "cell_type": "code",
   "execution_count": 290,
   "metadata": {},
   "outputs": [],
   "source": [
    "params = np.load(\"params.npz\")"
   ]
  },
  {
   "cell_type": "code",
   "execution_count": 295,
   "metadata": {},
   "outputs": [],
   "source": [
    "y = model.gradDescent(x_train,output_test,lr=5,epochs=10,paramMemory=False,returnAcc=True)"
   ]
  },
  {
   "cell_type": "code",
   "execution_count": 296,
   "metadata": {},
   "outputs": [
    {
     "name": "stdout",
     "output_type": "stream",
     "text": [
      "[0.10441666666666671, 0.14605, 0.23053333333333337, 0.3122166666666667, 0.6048666666666667, 0.8010166666666667, 0.8587666666666667, 0.8801166666666667, 0.8916166666666667, 0.8985, 0.9036666666666666, 0.9051, 0.9071833333333333, 0.9084, 0.9088666666666667, 0.9090666666666667, 0.90965, 0.9111833333333333, 0.91325, 0.9143666666666667, 0.9152166666666667, 0.9164, 0.9167333333333333, 0.9173666666666667, 0.9176666666666666]\n"
     ]
    }
   ],
   "source": [
    "x += y\n",
    "print(x)"
   ]
  },
  {
   "cell_type": "code",
   "execution_count": 297,
   "metadata": {},
   "outputs": [
    {
     "data": {
      "image/png": "[encoded data removed]",
      "text/plain": [
       "<Figure size 640x480 with 1 Axes>"
      ]
     },
     "metadata": {},
     "output_type": "display_data"
    }
   ],
   "source": [
    "plt.plot(x)\n",
    "plt.ylabel(\"accuracy (form 0.0 to 1.0)\")\n",
    "plt.xlabel(\"epochs\")\n",
    "plt.show()"
   ]
  },
  {
   "cell_type": "code",
   "execution_count": 1,
   "metadata": {},
   "outputs": [
    {
     "ename": "NameError",
     "evalue": "name 'x_train' is not defined",
     "output_type": "error",
     "traceback": [
      "\u001b[1;31m---------------------------------------------------------------------------\u001b[0m",
      "\u001b[1;31mNameError\u001b[0m                                 Traceback (most recent call last)",
      "Cell \u001b[1;32mIn[1], line 2\u001b[0m\n\u001b[0;32m      1\u001b[0m imageIndex \u001b[38;5;241m=\u001b[39m \u001b[38;5;241m1009\u001b[39m\n\u001b[1;32m----> 2\u001b[0m x \u001b[38;5;241m=\u001b[39m \u001b[43mx_train\u001b[49m[imageIndex]\u001b[38;5;241m.\u001b[39mreshape(\u001b[38;5;241m28\u001b[39m,\u001b[38;5;241m28\u001b[39m)\n\u001b[0;32m      3\u001b[0m plt\u001b[38;5;241m.\u001b[39mimshow(x,cmap\u001b[38;5;241m=\u001b[39m\u001b[38;5;124m'\u001b[39m\u001b[38;5;124mgray\u001b[39m\u001b[38;5;124m'\u001b[39m)\n\u001b[0;32m      4\u001b[0m plt\u001b[38;5;241m.\u001b[39mtitle(\u001b[38;5;124mf\u001b[39m\u001b[38;5;124m\"\u001b[39m\u001b[38;5;124mLabel: \u001b[39m\u001b[38;5;132;01m{\u001b[39;00my_train[imageIndex]\u001b[38;5;132;01m}\u001b[39;00m\u001b[38;5;124m\"\u001b[39m)\n",
      "\u001b[1;31mNameError\u001b[0m: name 'x_train' is not defined"
     ]
    }
   ],
   "source": [
    "imageIndex = 1009\n",
    "x = x_train[imageIndex].reshape(28,28)\n",
    "plt.imshow(x,cmap='gray')\n",
    "plt.title(f\"Label: {y_train[imageIndex]}\")\n",
    "plt.axis('off')\n",
    "plt.show()\n",
    "print(f\"ai prediction {np.argmax(model.compute(x_train[imageIndex]))}\")"
   ]
  },
  {
   "cell_type": "code",
   "execution_count": 289,
   "metadata": {},
   "outputs": [],
   "source": [
    "z0 = model.layers[0]\n",
    "z3 = model.layers[3]\n",
    "np.savez(\"params.npz\",w0=z0.w,b0=z0.b,w1=z3.w,b1=z3.b)\n",
    "#saved the model (current is 90 pct, do not save unless you have found a better one)\n",
    "#archetecture is Dense, act,softmax,Dense,act,softmax"
   ]
  }
 ],
 "metadata": {
  "kernelspec": {
   "display_name": "Python 3",
   "language": "python",
   "name": "python3"
  },
  "language_info": {
   "codemirror_mode": {
    "name": "ipython",
    "version": 3
   },
   "file_extension": ".py",
   "mimetype": "text/x-python",
   "name": "python",
   "nbconvert_exporter": "python",
   "pygments_lexer": "ipython3",
   "version": "3.8.6"
  }
 },
 "nbformat": 4,
 "nbformat_minor": 2
}
