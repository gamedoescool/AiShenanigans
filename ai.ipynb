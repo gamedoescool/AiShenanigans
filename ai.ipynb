{
 "cells": [
  {
   "cell_type": "code",
   "execution_count": 102,
   "metadata": {},
   "outputs": [],
   "source": [
    "#imports\n",
    "import tensorflow as tf\n",
    "import numpy as np\n",
    "from numpy import ndarray\n",
    "import matplotlib.pyplot as plt\n",
    "import copy\n"
   ]
  },
  {
   "cell_type": "markdown",
   "metadata": {},
   "source": [
    "# NOTE:\n",
    "This document assumes familiarity with multivariate calculus and matrix calculus. My goal was not to teach these concepts, but to show how the multivariate chain rule naturally leads to a modular, scalable implementation of backpropagation in neural networks.\n",
    "\n",
    "\n"
   ]
  },
  {
   "cell_type": "markdown",
   "metadata": {},
   "source": [
    "# Mathamatical motivation <br>\n",
    "In ML, we represent the model as a layer of multivarite functions, labeled $L_n$. <br> \n",
    "The model is defeined as a mathamatical compositon of all of these layers $M = L_n(L_{n-1}(L_{n-2}(...L_1)))$\n",
    "Each layer $L_n$ is a function with respect to its paramaters $p$, and input, which is the previous layer.\n",
    "Then, we have the cost function $C$. This is a scalar function whose exact behavior depends on the ML task, but has key properties: <br>\n",
    "1. **Can be written as a function of $M$**\n",
    "2. **Gets bigger as the output's devation from the expected output increases**\n",
    "3. **is differentiable** <br>\n",
    "In gradient descent, the idea is to find $\\nabla{C}$ with respect to the model paramaters, subpract the corresponding paramaters, and repeat. <br>\n",
    "Idea is to move in the direction of steepest descent. <br>\n"
   ]
  },
  {
   "cell_type": "markdown",
   "metadata": {},
   "source": [
    "## Section II: the algoritm\n",
    "The modular idea comes from a concept in math called the **multivariate chain rule** <br>\n",
    "<br> Given a scalar $f=g(\\mathbf{u}(\\vec{I}))$, the gradient $\\nabla{f}$ with respect to $\\vec{I}$ is:\n",
    "$$\\nabla{f} = \\mathbf{J}_u^\\top \\cdot \\nabla{g}$$\n",
    "Where $\\mathbf{J}_u$ is the jacobian of the multivariate function $\\mathbf{u}$. <br>\n",
    "Note that here, we are computing matrix multiplcation between the jacobian matrix $\\mathbf{J}_u$ and the multivariate function $\\mathbf{u}$ <br>\n",
    "Using this rule, we can write an algorithm to find the gradient wtih respect to the outer function's gradient: <br>\n",
    "for each layer $L_n$, we can write $C = A_n(\\mathbf{L_n}(\\vec{p}))$, where $\\vec{p}$ are the paramaters of the layer, and $A$ is the composition of all the other layers that im too lazy to write <br>\n",
    "We can use the rule baove to find the gradient with respect to the paramaters and easily perform gradient descent. <br>\n",
    "\n",
    "Finally, we can find the gradient with respect to the inputs of the layer by writing $C = A_n(\\mathbf{L_n}(\\mathbf{L_{n-1}}))$ and using the multivarite chain rule.<br>\n",
    "\n",
    "We then move on to layer $L_{n-1}$. This time, we realize that the outer function $A_{n-1}$ is equal to $A_n(\\mathbf{L_n})$. <br>\n",
    "Since we already have the gradient of the right hand side, this saves us a lot of computation. <br>"
   ]
  },
  {
   "cell_type": "markdown",
   "metadata": {},
   "source": [
    "## Section III: Gradient Descent\n",
    "\n",
    "As such, we can impliment gradient descent as follows:\n",
    "1. first, we start at the topmost layer, n = N, and find $\\nabla{C}$ with respect to its input. \n",
    "2. Complete the algorithm described above, and keep track of the gradient wtih respect to $L_n$'s input\n",
    "3. Move to the lower layer, n = n-1, and complete step 2 with the newly found gradient. Stop once we reach n = 0"
   ]
  },
  {
   "cell_type": "markdown",
   "metadata": {},
   "source": [
    "# Code implementation\n",
    "I represented each layer $L_n$ as a class with 2 key methods:\n",
    "1. **backprop**: computes the algorithm described in section II, given the gradient of the outer function\n",
    "2. **feedfoward**: computes the output of the layer given its input\n",
    "Some layers, like Dense, have inputs allowing for saved paramaters to be entered.\n",
    "\n",
    "Then, I implimented a wrapper class called ANN to encapsualte a typical artifical nerual network. It also has 2 key methods:\n",
    "1. **gradDescent**: computes gradient descent as described in section III, given input-output pairs. Uses a MSE cost function\n",
    "2. **compute**: given an input, computes the output of the model by chaining the model's layers together"
   ]
  },
  {
   "cell_type": "code",
   "execution_count": 1,
   "metadata": {},
   "outputs": [],
   "source": [
    "class Dense:\n",
    "    def __init__(self,inputAmnt: int, outputAmnt: int,w = None,b = None):\n",
    "        if not np.all(w):\n",
    "            self.w = 10*np.random.random_sample(size=(outputAmnt,inputAmnt))\n",
    "        else:\n",
    "            self.w = w\n",
    "        self.dw = np.zeros_like(self.w)\n",
    "        if not np.all(b):\n",
    "            self.b =  np.random.random_sample(size=(outputAmnt,1))\n",
    "        else:\n",
    "            self.b = b\n",
    "        self.db = np.zeros_like(self.b)\n",
    "        self.iterator = 0\n",
    "        self.a = None\n",
    "    def ein(self,x,y):\n",
    "        return np.einsum(\"i,j -> ij\",np.transpose(x)[0],np.transpose(y)[0])\n",
    "    def feedfoward(self,a_0):\n",
    "        self.a = a_0\n",
    "        return  self.w @ a_0 + self.b\n",
    "\n",
    "    def backprop(self, alpha,dz,batch_size):\n",
    "        self.iterator+=1\n",
    "        self.db += alpha * dz\n",
    "        self.dw += alpha * dz[:, None] * self.a[None, :] #self.ein(dz,self.a)\n",
    "        if(self.iterator == batch_size):\n",
    "            self.w -= self.dw\n",
    "            self.dw -= self.dw\n",
    "            self.b -= self.db\n",
    "            self.db -= self.db\n",
    "            self.iterator = 0\n",
    "        return np.transpose(self.w) @ dz\n",
    "class softmax:\n",
    "    def __init__(self):\n",
    "        self.a_0 = None\n",
    "    def feedfoward(self,a_0):\n",
    "        self.a_0 = a_0\n",
    "        return a_0/(np.sum(a_0)+1e-10)\n",
    "    \n",
    "    def backprop(self,alpha,dz,batch_size):\n",
    "        summation = np.sum(self.a_0) + 1e-10\n",
    "        return dz * (1/summation-self.a_0/(summation**2))\n",
    "class act:\n",
    "    def __init__(self):\n",
    "        self.a_0 = None\n",
    "        self.mask = None\n",
    "        self.mask1 = None\n",
    "    def feedfoward(self,a_0):\n",
    "        self.a_0 = a_0\n",
    "        self.mask = (a_0 >= 0)\n",
    "        self.mask1 = (a_0 < 0)\n",
    "        a = np.zeros_like(a_0)\n",
    "        a[self.mask] = self.a_0[self.mask]+1\n",
    "        a[self.mask1] = np.exp(self.a_0[self.mask1])\n",
    "        return a\n",
    "    \n",
    "    def backprop(self,alpha,dz,batch_size):\n",
    "        a = np.zeros_like(self.a_0)\n",
    "        a[self.mask] = 1\n",
    "        a[self.mask1] = np.exp(self.a_0[self.mask1])\n",
    "        return dz * a\n",
    "#incomplete\n",
    "class ConvlutionLayer:\n",
    "    def __init__(self,length,kernal=None):\n",
    "        if(not kernal):\n",
    "            self.kernal = np.random.random_sample(size=(length))\n",
    "        else:\n",
    "            self.kernal = kernal\n",
    "        \n",
    "\n",
    "class ANN:\n",
    "    def __init__(self,*layers):\n",
    "        self.layers = list(layers)\n",
    "    def compute(self,inp):\n",
    "        output = inp\n",
    "        for layer in self.layers:\n",
    "            output = layer.feedfoward(output)\n",
    "        return output\n",
    "    def gradDescent(self,inputs,outputs,lr,epochs,returnAcc = False,BATCH_SIZE=1):\n",
    "        acc = []\n",
    "        for i in range(epochs):\n",
    "            iterator = 0\n",
    "            for (input,output) in zip(inputs,outputs):\n",
    "                dz = 2*(self.compute(input)-output)\n",
    "                for layer in self.layers[::-1]:\n",
    "                    dz = layer.backprop(lr,dz,BATCH_SIZE)\n",
    "            if(returnAcc):\n",
    "                acc.append(self.testAcc2(inputs,outputs))\n",
    "        return acc\n",
    "    def testAccuracy(self,inputs,outputs):\n",
    "        error = 0\n",
    "        for(input, output) in zip(inputs,outputs):\n",
    "            if(np.argmax(self.compute(input)) != output):\n",
    "                error +=1\n",
    "        return 1-error/len(inputs)\n",
    "    def testAcc2(self,inputs,outputs):\n",
    "        error = 0\n",
    "        for(input, output) in zip(inputs,outputs):\n",
    "            if(np.argmax(self.compute(input)) != np.argmax(output)):\n",
    "                error +=1\n",
    "        return 1-error/len(inputs)"
   ]
  },
  {
   "cell_type": "code",
   "execution_count": 3,
   "metadata": {},
   "outputs": [],
   "source": [
    "mnist = tf.keras.datasets.mnist\n",
    "(x_train, y_train), (x_test, y_test) = mnist.load_data()\n",
    "x_train = x_train.reshape(x_train.shape[0], -1,1) / 255  # input for training\n",
    "x_test = x_test.reshape(x_test.shape[0], -1,1) / 255  # input for testing\n",
    "y_train = y_train.reshape(60_000,1)\n",
    "def encode(input):\n",
    "    z = np.array([[0, 0, 0, 0, 0, 0, 0, 0, 0, 0]])\n",
    "    z[0][input] = 1\n",
    "    return np.transpose(z)\n",
    "output_test = np.apply_along_axis(encode,1,y_train)\n"
   ]
  },
  {
   "cell_type": "code",
   "execution_count": 4,
   "metadata": {},
   "outputs": [],
   "source": [
    "params = np.load(\"params.npz\")"
   ]
  },
  {
   "cell_type": "markdown",
   "metadata": {},
   "source": [
    "Model with 15 hidden layers, 1 layer hidden"
   ]
  },
  {
   "cell_type": "code",
   "execution_count": 5,
   "metadata": {},
   "outputs": [],
   "source": [
    "model = ANN(Dense(784,15,params[\"w0\"],params[\"b0\"]),act(),softmax(),Dense(15,10,params[\"w1\"],params[\"b1\"]),act(),softmax()) # saved model"
   ]
  },
  {
   "cell_type": "markdown",
   "metadata": {},
   "source": [
    "to save new model for 15 neruon hidden layer (if found)"
   ]
  },
  {
   "cell_type": "code",
   "execution_count": 180,
   "metadata": {},
   "outputs": [],
   "source": [
    "np.savez(\"params.npz\",w0=model.layers[0].w,b0=model.layers[0].b,w1=model.layers[3].w,b1=model.layers[3].b) "
   ]
  },
  {
   "cell_type": "markdown",
   "metadata": {},
   "source": [
    "train accuracy"
   ]
  },
  {
   "cell_type": "code",
   "execution_count": 92,
   "metadata": {},
   "outputs": [
    {
     "data": {
      "text/plain": [
       "0.9473833333333334"
      ]
     },
     "execution_count": 92,
     "metadata": {},
     "output_type": "execute_result"
    }
   ],
   "source": [
    "model.testAcc2(x_train,output_test)"
   ]
  },
  {
   "cell_type": "markdown",
   "metadata": {},
   "source": [
    "train accuracy"
   ]
  },
  {
   "cell_type": "code",
   "execution_count": 114,
   "metadata": {},
   "outputs": [
    {
     "data": {
      "text/plain": [
       "0.9348"
      ]
     },
     "execution_count": 114,
     "metadata": {},
     "output_type": "execute_result"
    }
   ],
   "source": [
    "model.testAccuracy(x_test,y_test)"
   ]
  },
  {
   "cell_type": "markdown",
   "metadata": {},
   "source": [
    "train og model"
   ]
  },
  {
   "cell_type": "code",
   "execution_count": 78,
   "metadata": {},
   "outputs": [],
   "source": [
    "def MSE(intput, outtput, model):\n",
    "    \"\"\"\n",
    "    Takes in a input (vector arr) output (vector arr) and model to output a cost (scalar) using MSE\n",
    "    \"\"\"\n",
    "    z = 0\n",
    "    for (input, output) in zip(intput, outtput):\n",
    "       loss = model.compute(input)-output\n",
    "       z += np.sum(loss*loss)\n",
    "    z /= len(input)\n",
    "    return z "
   ]
  },
  {
   "cell_type": "code",
   "execution_count": 185,
   "metadata": {},
   "outputs": [],
   "source": [
    "y = model.gradDescent(x_train,output_test,lr=5,epochs=10,BATCH_SIZE=10,returnAcc=True)"
   ]
  },
  {
   "cell_type": "code",
   "execution_count": 11,
   "metadata": {},
   "outputs": [],
   "source": [
    "model2 = ANN(Dense(784,20),act(),softmax(),Dense(20,10),act(),softmax())"
   ]
  },
  {
   "cell_type": "code",
   "execution_count": 115,
   "metadata": {},
   "outputs": [],
   "source": [
    "np.savez(\"params2.npz\",w0=model2.layers[0].w,b0=model2.layers[0].b,w1=model2.layers[3].w,b1=model2.layers[3].b) "
   ]
  },
  {
   "cell_type": "code",
   "execution_count": 108,
   "metadata": {},
   "outputs": [
    {
     "data": {
      "text/plain": [
       "0.9500333333333333"
      ]
     },
     "execution_count": 108,
     "metadata": {},
     "output_type": "execute_result"
    }
   ],
   "source": [
    "model2.testAcc2(x_train,output_test)"
   ]
  },
  {
   "cell_type": "code",
   "execution_count": 107,
   "metadata": {},
   "outputs": [
    {
     "data": {
      "text/plain": [
       "0.9326"
      ]
     },
     "execution_count": 107,
     "metadata": {},
     "output_type": "execute_result"
    }
   ],
   "source": [
    "model2.testAccuracy(x_test,y_test)"
   ]
  },
  {
   "cell_type": "code",
   "execution_count": 95,
   "metadata": {},
   "outputs": [
    {
     "data": {
      "text/plain": [
       "6.481664046966511"
      ]
     },
     "execution_count": 95,
     "metadata": {},
     "output_type": "execute_result"
    }
   ],
   "source": [
    "MSE(x_train,output_test,model)"
   ]
  },
  {
   "cell_type": "code",
   "execution_count": 106,
   "metadata": {},
   "outputs": [
    {
     "data": {
      "text/plain": [
       "5.920188351163529"
      ]
     },
     "execution_count": 106,
     "metadata": {},
     "output_type": "execute_result"
    }
   ],
   "source": [
    "MSE(x_train,output_test,model2)"
   ]
  },
  {
   "cell_type": "code",
   "execution_count": 111,
   "metadata": {},
   "outputs": [],
   "source": [
    "z = model2.gradDescent(x_train,output_test,lr=3,epochs=15,returnAcc=True)"
   ]
  },
  {
   "cell_type": "code",
   "execution_count": 112,
   "metadata": {},
   "outputs": [
    {
     "name": "stdout",
     "output_type": "stream",
     "text": [
      "[0.9500333333333333, 0.95005, 0.9500333333333333, 0.95005, 0.9500833333333334, 0.9501666666666667, 0.9502, 0.9502333333333334, 0.9502333333333334, 0.9502666666666667, 0.9503, 0.9502666666666667, 0.95035, 0.9504, 0.9504333333333334]\n"
     ]
    }
   ],
   "source": [
    "print(z)"
   ]
  },
  {
   "cell_type": "code",
   "execution_count": 151,
   "metadata": {},
   "outputs": [],
   "source": [
    "model3 = ANN(Dense(784,128),act(),softmax(),Dense(128,10),act(),softmax())"
   ]
  },
  {
   "cell_type": "code",
   "execution_count": null,
   "metadata": {},
   "outputs": [],
   "source": [
    "b = model3.gradDescent(x_train,output_test,lr=10,epochs=15,returnAcc=True)"
   ]
  },
  {
   "cell_type": "code",
   "execution_count": 187,
   "metadata": {},
   "outputs": [],
   "source": [
    "np.savez(\"params3.npz\",w0=model3.layers[0].w,b0=model3.layers[0].b,w1=model3.layers[3].w,b1=model3.layers[3].b) "
   ]
  },
  {
   "cell_type": "code",
   "execution_count": 196,
   "metadata": {},
   "outputs": [
    {
     "name": "stdout",
     "output_type": "stream",
     "text": [
      "[0.9015666666666666, 0.8954166666666666, 0.9045166666666666, 0.8962166666666667, 0.9003666666666666, 0.9024666666666666, 0.8995166666666666, 0.89935, 0.9009, 0.90135, 0.9040333333333334, 0.9037, 0.90585, 0.9062166666666667, 0.90665]\n"
     ]
    }
   ],
   "source": [
    "print(b)"
   ]
  },
  {
   "cell_type": "code",
   "execution_count": 188,
   "metadata": {},
   "outputs": [
    {
     "data": {
      "text/plain": [
       "0.8983166666666667"
      ]
     },
     "execution_count": 188,
     "metadata": {},
     "output_type": "execute_result"
    }
   ],
   "source": [
    "model3.testAcc2(x_train,output_test)"
   ]
  },
  {
   "cell_type": "markdown",
   "metadata": {},
   "source": [
    "epoch vs time graph"
   ]
  },
  {
   "cell_type": "code",
   "execution_count": 197,
   "metadata": {},
   "outputs": [
    {
     "data": {
      "image/png": "[encoded data removed]",
      "text/plain": [
       "<Figure size 640x480 with 1 Axes>"
      ]
     },
     "metadata": {},
     "output_type": "display_data"
    }
   ],
   "source": [
    "plt.plot(b)\n",
    "plt.ylabel(\"accuracy (form 0.0 to 1.0)\")\n",
    "plt.xlabel(\"epochs\")\n",
    "plt.show()"
   ]
  },
  {
   "cell_type": "code",
   "execution_count": 109,
   "metadata": {},
   "outputs": [
    {
     "data": {
      "image/png": "[encoded data removed]",
      "text/plain": [
       "<Figure size 640x480 with 1 Axes>"
      ]
     },
     "metadata": {},
     "output_type": "display_data"
    },
    {
     "name": "stdout",
     "output_type": "stream",
     "text": [
      "ai prediction 8\n"
     ]
    }
   ],
   "source": [
    "imageIndex = 1009\n",
    "x = x_train[imageIndex].reshape(28,28)\n",
    "plt.imshow(x,cmap='gray')\n",
    "plt.title(f\"Label: {y_train[imageIndex]}\")\n",
    "plt.axis('off')\n",
    "plt.show()\n",
    "print(f\"ai prediction {np.argmax(model.compute(x_train[imageIndex]))}\")"
   ]
  }
 ],
 "metadata": {
  "kernelspec": {
   "display_name": "Python 3",
   "language": "python",
   "name": "python3"
  },
  "language_info": {
   "codemirror_mode": {
    "name": "ipython",
    "version": 3
   },
   "file_extension": ".py",
   "mimetype": "text/x-python",
   "name": "python",
   "nbconvert_exporter": "python",
   "pygments_lexer": "ipython3",
   "version": "3.8.6"
  }
 },
 "nbformat": 4,
 "nbformat_minor": 2
}
