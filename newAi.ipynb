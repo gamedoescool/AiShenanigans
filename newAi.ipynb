{
 "cells": [
  {
   "cell_type": "code",
   "execution_count": 13,
   "metadata": {},
   "outputs": [],
   "source": [
    "import tensorflow as tf\n",
    "import numpy as np\n",
    "from numpy import ndarray"
   ]
  },
  {
   "cell_type": "code",
   "execution_count": 14,
   "metadata": {},
   "outputs": [],
   "source": [
    "generator = np.random.default_rng()\n",
    "class Layer:\n",
    "    def __init__(self,inputAmnt,outputAmnt):\n",
    "        def sharmaAct(input):\n",
    "            x = input\n",
    "            mask1 = x < -0.5\n",
    "            mask2 = (-0.5 <= x) & (x <= 0.5)\n",
    "            result = np.zeros_like(x)  # Initialize an array of zeros\n",
    "            result[mask1] = (x[mask1] + 1.5) / np.sqrt(np.e)\n",
    "            result[mask2] = np.exp(x[mask2])\n",
    "            result[~(mask1 | mask2)] = x[~(mask1 | mask2)] + 1\n",
    "            return result\n",
    "        def sharmaActPrime(input):\n",
    "            x = input\n",
    "            mask1 = x < -0.5\n",
    "            mask2 = (-0.5 <= x) & (x <= 0.5)\n",
    "            result = np.zeros_like(x)  # Initialize an array of zeros\n",
    "            result[mask1] =  1 / np.sqrt(np.e) \n",
    "            result[mask2] = np.exp(x[mask2])\n",
    "            result[~(mask1 | mask2)] = 1 \n",
    "            return result\n",
    "        self.f = sharmaAct\n",
    "        self.fPrime = sharmaActPrime\n",
    "        self.w = np.random.uniform(low=-1,high=1,size=(outputAmnt,inputAmnt))\n",
    "        self.b = np.random.uniform(low=-1,high=1,size=(outputAmnt,1))\n",
    "        self.linearCombo = 0\n",
    "        self.input = 0\n",
    "    def compute(self,input):\n",
    "        self.input = input\n",
    "        self.linearCombo = self.w @ input + self.b\n",
    "        return self.f(self.linearCombo)\n",
    "    def compPrime(self):\n",
    "        return self.fPrime(self.linearCombo)\n",
    "class inputLayer:\n",
    "    def __init__(self,activation):\n",
    "        def relu(input):\n",
    "            return np.maximum(input,0)\n",
    "        def reluPrime(input):\n",
    "            return np.greater(input, 0).astype(np.float32)\n",
    "        def sigmoid(input):\n",
    "            return 1/(1+np.exp(-input))\n",
    "        def sigmoidPrime(input):\n",
    "            return -np.exp(-input)/(1+np.exp(input))\n",
    "        def tanhPrime(input):\n",
    "            np.power(1/(np.cosh(input)),2)\n",
    "        def sharmaAct(input):\n",
    "            x = input\n",
    "            mask1 = x < -0.5\n",
    "            mask2 = (-0.5 <= x) & (x <= 0.5)\n",
    "\n",
    "            result = np.zeros_like(x)  # Initialize an array of zeros\n",
    "            result[mask1] = (x[mask1] + 1.5) / np.sqrt(np.e)\n",
    "            result[mask2] = np.exp(x[mask2])\n",
    "            result[~(mask1 | mask2)] = x[~(mask1 | mask2)] + 1\n",
    "            return result\n",
    "        def sharmaActPrime(input):\n",
    "            x = input\n",
    "            mask1 = x < -0.5\n",
    "            mask2 = (-0.5 <= x) & (x <= 0.5)\n",
    "            \n",
    "            result = np.zeros_like(x)  # Initialize an array of zeros\n",
    "            result[mask1] =  1 / np.sqrt(np.e) \n",
    "            result[mask2] = np.exp(x[mask2])\n",
    "            result[~(mask1 | mask2)] = 1 \n",
    "            return result\n",
    "        val = {\"relu\":[relu,reluPrime],\"sigmoid\":[sigmoid,sigmoidPrime],\"tanh\":[np.tanh,tanhPrime],'sharma':[sharmaAct,sharmaActPrime]}\n",
    "        self.f = val[activation][0]\n",
    "\n",
    "\n",
    "class ANN:\n",
    "    def __init__(self,input,*layers):\n",
    "        self.layers = list(layers)\n",
    "        self.input = input\n",
    "    def predict(self,input: np.array):\n",
    "        out = self.input.f(input)\n",
    "        for k in self.layers:\n",
    "            out = k.compute(out)\n",
    "        return out/np.sum(np.abs(out))\n",
    "    def gradientDescent(self,inputs,outputs,alpha):\n",
    "        for (input,output) in zip(inputs,outputs):\n",
    "            vectorPart = 2*(self.predict(input)-output)\n",
    "            self.layers.reverse()\n",
    "            matThing = np.identity(n=self.layers[0].w.shape[0])\n",
    "            prevW = -1\n",
    "            for l in self.layers:\n",
    "                if(not isinstance(prevW,int)):\n",
    "                    matThing = matThing @ (prevW * np.transpose(l.compPrime()))\n",
    "                value = np.transpose(matThing) @ vectorPart\n",
    "                l.b -= alpha * value\n",
    "                l.w -= value * np.tile(np.transpose(l.input),(l.w.shape[0],1))*alpha\n",
    "                prevW = l.w\n",
    "            \n",
    "            self.layers.reverse()"
   ]
  },
  {
   "cell_type": "code",
   "execution_count": 34,
   "metadata": {},
   "outputs": [],
   "source": [
    "model = ANN(inputLayer('sharma'),Layer(784,15),Layer(15,10))\n"
   ]
  },
  {
   "cell_type": "code",
   "execution_count": 16,
   "metadata": {},
   "outputs": [],
   "source": [
    "mnist = tf.keras.datasets.mnist\n",
    "(x_train, y_train), (x_test, y_test) = mnist.load_data()\n",
    "x_train = x_train.reshape(x_train.shape[0], -1,1)  # input for training\n",
    "x_test = x_test.reshape(x_test.shape[0], -1,1)  # input for testing\n",
    "y_train = y_train.reshape(60_000,1)"
   ]
  },
  {
   "cell_type": "code",
   "execution_count": 17,
   "metadata": {},
   "outputs": [],
   "source": [
    "def encode(input):\n",
    "    z = np.array([[0, 0, 0, 0, 0, 0, 0, 0, 0, 0]])\n",
    "    z[0][input] = 1\n",
    "    return np.transpose(z)\n",
    "output_test = np.apply_along_axis(encode,1,y_train)\n"
   ]
  },
  {
   "cell_type": "code",
   "execution_count": 141,
   "metadata": {},
   "outputs": [],
   "source": [
    "model.gradientDescent(x_train,output_test,1/300_000)\n",
    "    "
   ]
  },
  {
   "cell_type": "code",
   "execution_count": 137,
   "metadata": {},
   "outputs": [
    {
     "name": "stdout",
     "output_type": "stream",
     "text": [
      "0.6708833333333333\n"
     ]
    }
   ],
   "source": [
    "#0.67935 (its been stable at about 67.5 percennt)\n",
    "def percentAcc(model):\n",
    "    global x_train,y_train\n",
    "    error = 0\n",
    "    for (input,output) in zip(x_train,y_train):\n",
    "        if(np.argmax(model.predict(input)) != output):\n",
    "            error += 1\n",
    "    return error\n",
    "print(1-percentAcc(model)/60_000)"
   ]
  },
  {
   "cell_type": "code",
   "execution_count": 78,
   "metadata": {},
   "outputs": [],
   "source": [
    "for l in model.layers:\n",
    "        l.b /= np.average(np.abs(l.b))\n",
    "        l.w /= np.average(np.abs(l.w))"
   ]
  },
  {
   "cell_type": "code",
   "execution_count": 144,
   "metadata": {},
   "outputs": [
    {
     "data": {
      "text/plain": [
       "array([[ 9.78942123e+27,  9.78942123e+27,  9.78942123e+27, ...,\n",
       "         9.78942123e+27,  9.78942123e+27,  9.78942123e+27],\n",
       "       [ 3.79874992e+27,  3.79874992e+27,  3.79874992e+27, ...,\n",
       "         3.79874992e+27,  3.79874992e+27,  3.79874992e+27],\n",
       "       [ 4.14196321e+28,  4.14196321e+28,  4.14196321e+28, ...,\n",
       "         4.14196321e+28,  4.14196321e+28,  4.14196321e+28],\n",
       "       ...,\n",
       "       [-6.46633770e+27, -6.46633770e+27, -6.46633770e+27, ...,\n",
       "        -6.46633770e+27, -6.46633770e+27, -6.46633770e+27],\n",
       "       [-6.25458063e+27, -6.25458063e+27, -6.25458063e+27, ...,\n",
       "        -6.25458063e+27, -6.25458063e+27, -6.25458063e+27],\n",
       "       [ 6.79042712e+28,  6.79042712e+28,  6.79042712e+28, ...,\n",
       "         6.79042712e+28,  6.79042712e+28,  6.79042712e+28]])"
      ]
     },
     "execution_count": 144,
     "metadata": {},
     "output_type": "execute_result"
    }
   ],
   "source": [
    "model.layers[0].w"
   ]
  }
 ],
 "metadata": {
  "kernelspec": {
   "display_name": "Python 3",
   "language": "python",
   "name": "python3"
  },
  "language_info": {
   "codemirror_mode": {
    "name": "ipython",
    "version": 3
   },
   "file_extension": ".py",
   "mimetype": "text/x-python",
   "name": "python",
   "nbconvert_exporter": "python",
   "pygments_lexer": "ipython3",
   "version": "3.8.6"
  }
 },
 "nbformat": 4,
 "nbformat_minor": 2
}
