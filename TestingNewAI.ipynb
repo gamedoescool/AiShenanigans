{
 "cells": [
  {
   "cell_type": "code",
   "execution_count": 1,
   "metadata": {},
   "outputs": [],
   "source": [
    "import tensorflow as tf\n",
    "import numpy as np\n",
    "from numpy import ndarray\n"
   ]
  },
  {
   "cell_type": "code",
   "execution_count": 4,
   "metadata": {},
   "outputs": [],
   "source": [
    "class Layer:\n",
    "    def __init__(self,inputNeruon: int, outputNeruon: int, g,gPrime):\n",
    "        self.g = g\n",
    "        self.gPrime = gPrime\n",
    "        self.w = np.random.random_sample(size=(outputNeruon,inputNeruon))\n",
    "        self.b = np.random.random_sample(size=(outputNeruon,1))\n",
    "        self.a_0 = None\n",
    "        self.z = None\n",
    "    def feedFoward(self,a_0):\n",
    "        self.a_0 = a_0\n",
    "        self.z = self.w @ self.a_0 + self.b\n",
    "        return self.g(self.z)\n",
    "    def ein(self,x,y):\n",
    "        return np.einsum(\"i,j -> ij\",np.transpose(x)[0],np.transpose(y)[0])\n",
    "    def backProp(self,da,alpha):\n",
    "        dz = da * self.gPrime(self.z)\n",
    "        newW = self.w - alpha * self.ein(dz,self.a_0)\n",
    "        newB = self.b - alpha * dz\n",
    "        if(np.all(np.isfinite(newW))):\n",
    "            self.w = newW\n",
    "        if(np.all(np.isfinite(newB))):\n",
    "            self.b = newB\n",
    "        return np.transpose(self.w) @ dz\n",
    "class ANN:\n",
    "    def __init__(self,*layer):\n",
    "        self.layers = list(layer)\n",
    "    def compute(self,input):\n",
    "        a = input\n",
    "        for l in self.layers:\n",
    "            a = l.feedFoward(a)\n",
    "        if(np.sum(a) == 0):\n",
    "            return a\n",
    "        return a/np.sum(a)\n",
    "    def gradDescent(self,inputs,outputs,alpha):\n",
    "        for (input,output) in zip(inputs,outputs):\n",
    "            a = 2*(self.compute(input)-output)\n",
    "            for i in self.layers[::-1]:\n",
    "                a = i.backProp(a,alpha)\n",
    "           \n",
    "def Act(input):\n",
    "    x = input\n",
    "    mask1 = x < -0.5\n",
    "    mask2 = (-0.5 <= x) & (x <= 0.5)\n",
    "\n",
    "    result = np.zeros_like(x)  # Initialize an array of zeros\n",
    "    result[mask1] = (x[mask1] + 1.5) / np.sqrt(np.e)\n",
    "    result[mask2] = np.exp(x[mask2])\n",
    "    result[~(mask1 | mask2)] = x[~(mask1 | mask2)] + 1\n",
    "    return result\n",
    "def ActPrime(input):\n",
    "    x = input\n",
    "    mask1 = x < -0.5\n",
    "    mask2 = (-0.5 <= x) & (x <= 0.5)\n",
    "    \n",
    "    result = np.zeros_like(x)  # Initialize an array of zeros\n",
    "    result[mask1] =  1 / np.sqrt(np.e) \n",
    "    result[mask2] = np.exp(x[mask2])\n",
    "    result[~(mask1 | mask2)] = 1 \n",
    "    return result\n",
    "def Act2(x):\n",
    "    mask = (x >= 0)\n",
    "    mask1 = (x<0)\n",
    "    result = np.zeros_like(x)\n",
    "    result[mask] = (x[mask]+1)\n",
    "    result[mask1] = np.exp(x[mask1])\n",
    "    return result\n",
    "def Act2Prime(x):\n",
    "    mask = (x>=0)\n",
    "    mask1 = (x<0)\n",
    "    result = np.zeros_like(x)\n",
    "    result[mask] = 1\n",
    "    result[mask1] = np.exp(x[mask1])\n",
    "    return result"
   ]
  },
  {
   "cell_type": "code",
   "execution_count": 5,
   "metadata": {},
   "outputs": [],
   "source": [
    "model = ANN(Layer(784,15,Act2,Act2Prime),Layer(15,10,Act2,Act2Prime))"
   ]
  },
  {
   "cell_type": "code",
   "execution_count": 6,
   "metadata": {},
   "outputs": [],
   "source": [
    "mnist = tf.keras.datasets.mnist\n",
    "(x_train, y_train), (x_test, y_test) = mnist.load_data()\n",
    "x_train = x_train.reshape(x_train.shape[0], -1,1) / 255  # input for training\n",
    "x_test = x_test.reshape(x_test.shape[0], -1,1) / 255  # input for testing\n",
    "y_train = y_train.reshape(60_000,1)\n",
    "def encode(input):\n",
    "    z = np.array([[0, 0, 0, 0, 0, 0, 0, 0, 0, 0]])\n",
    "    z[0][input] = 1\n",
    "    return np.transpose(z)\n",
    "output_test = np.apply_along_axis(encode,1,y_train)"
   ]
  },
  {
   "cell_type": "code",
   "execution_count": 71,
   "metadata": {},
   "outputs": [
    {
     "name": "stdout",
     "output_type": "stream",
     "text": [
      "0.78085\n"
     ]
    }
   ],
   "source": [
    "def percentAcc(model): #0.7785666666666666\n",
    "    global x_train,y_train\n",
    "    error = 0\n",
    "    i = 0\n",
    "    for (input,output) in zip(x_train,y_train):\n",
    "        x = model.compute(input)\n",
    "        if(not np.all(np.isfinite(x))):\n",
    "            x = np.zeros_like(x)\n",
    "        if(np.argmax(x) != output):\n",
    "            error += 1\n",
    "        i+=1\n",
    "    return error\n",
    "print(1-percentAcc(model)/60_000)"
   ]
  },
  {
   "cell_type": "code",
   "execution_count": 57,
   "metadata": {},
   "outputs": [
    {
     "name": "stdout",
     "output_type": "stream",
     "text": [
      "988.6006748565222\n"
     ]
    }
   ],
   "source": [
    "def mse(model): #(922.5757888244711)\n",
    "    global x_train,output_test\n",
    "    error = 0\n",
    "    for (input,output) in zip(x_train,output_test):\n",
    "        diff = model.compute(input)-output\n",
    "        error += np.dot(diff[0],diff[0])\n",
    "    return error\n",
    "print(mse(model))"
   ]
  },
  {
   "cell_type": "code",
   "execution_count": 56,
   "metadata": {},
   "outputs": [],
   "source": [
    "model.gradDescent(x_train,output_test,1/120_000)"
   ]
  },
  {
   "cell_type": "code",
   "execution_count": 70,
   "metadata": {},
   "outputs": [
    {
     "data": {
      "text/plain": [
       "array([[1.00000000e+000],\n",
       "       [0.00000000e+000],\n",
       "       [0.00000000e+000],\n",
       "       [0.00000000e+000],\n",
       "       [0.00000000e+000],\n",
       "       [2.20339137e-286],\n",
       "       [0.00000000e+000],\n",
       "       [0.00000000e+000],\n",
       "       [0.00000000e+000],\n",
       "       [0.00000000e+000]])"
      ]
     },
     "execution_count": 70,
     "metadata": {},
     "output_type": "execute_result"
    }
   ],
   "source": [
    "model.compute(x_train[1000])"
   ]
  },
  {
   "cell_type": "code",
   "execution_count": 46,
   "metadata": {},
   "outputs": [],
   "source": [
    "import copy\n",
    "\n",
    "\n",
    "model2 = copy.deepcopy(model)"
   ]
  },
  {
   "cell_type": "code",
   "execution_count": 128,
   "metadata": {},
   "outputs": [
    {
     "data": {
      "image/png": "[encoded data removed]",
      "text/plain": [
       "<Figure size 640x480 with 1 Axes>"
      ]
     },
     "metadata": {},
     "output_type": "display_data"
    },
    {
     "name": "stdout",
     "output_type": "stream",
     "text": [
      "ai prediction: 7\n",
      "[[0.        ]\n",
      " [0.        ]\n",
      " [0.        ]\n",
      " [0.        ]\n",
      " [0.        ]\n",
      " [0.        ]\n",
      " [0.        ]\n",
      " [0.97402424]\n",
      " [0.        ]\n",
      " [0.02597576]]\n",
      "[[2.47775740e-05]\n",
      " [3.52514567e-06]\n",
      " [7.86538610e-06]\n",
      " [1.08379905e-04]\n",
      " [7.00867160e-05]\n",
      " [1.15560081e-03]\n",
      " [4.10325273e-07]\n",
      " [8.88352815e-01]\n",
      " [1.30354163e-03]\n",
      " [1.08972997e-01]]\n"
     ]
    }
   ],
   "source": [
    "import matplotlib.pyplot as plt\n",
    "def display(index):\n",
    "    img = x_train[index]\n",
    "    label = y_train[index]\n",
    "    if(img.shape != (28,28)):\n",
    "        img = img.reshape(28,28)\n",
    "    plt.imshow(img, cmap='gray')\n",
    "    plt.title(f\"Label: {label}\")\n",
    "    plt.axis('off')\n",
    "    plt.show()\n",
    "index = 123\n",
    "display(index)\n",
    "print(f\"ai prediction: {np.argmax(model2.compute(x_train[index]))}\")\n",
    "x = model2.layers[0].g(model2.layers[0].w @ (x_train[index]) + model2.layers[0].b)\n",
    "x /= np.sum(x)\n",
    "y = model2.layers[0].g(model2.layers[1].w @ x + model2.layers[1].b)\n",
    "print(model2.compute(x_train[index]))\n",
    "print(y/np.sum(y))"
   ]
  },
  {
   "cell_type": "code",
   "execution_count": 113,
   "metadata": {},
   "outputs": [
    {
     "data": {
      "text/plain": [
       "4.94925752216034"
      ]
     },
     "execution_count": 113,
     "metadata": {},
     "output_type": "execute_result"
    }
   ],
   "source": [
    "np.average(np.abs(model2.layers[0].b))"
   ]
  },
  {
   "cell_type": "code",
   "execution_count": 86,
   "metadata": {},
   "outputs": [
    {
     "name": "stdout",
     "output_type": "stream",
     "text": [
      "9819\n"
     ]
    }
   ],
   "source": [
    "print(percentAcc(model2))"
   ]
  },
  {
   "cell_type": "code",
   "execution_count": 64,
   "metadata": {},
   "outputs": [
    {
     "name": "stdout",
     "output_type": "stream",
     "text": [
      "8448\n"
     ]
    }
   ],
   "source": [
    "error = 0\n",
    "for (input, output) in zip(x_test,y_test):\n",
    "    x = model2.compute(input)\n",
    "    if(np.argmax(x) != output):\n",
    "        error += 1\n",
    "print(10_000-error)"
   ]
  },
  {
   "cell_type": "code",
   "execution_count": 426,
   "metadata": {},
   "outputs": [],
   "source": [
    "\n",
    "def ein(x,y):\n",
    "    return np.einsum(\"i,j -> ij\",np.transpose(x)[0],np.transpose(y)[0])\n",
    "def envelop(x, y):\n",
    "    return y * np.tile(np.transpose(x),(y.shape[0],1))"
   ]
  }
 ],
 "metadata": {
  "kernelspec": {
   "display_name": "Python 3",
   "language": "python",
   "name": "python3"
  },
  "language_info": {
   "codemirror_mode": {
    "name": "ipython",
    "version": 3
   },
   "file_extension": ".py",
   "mimetype": "text/x-python",
   "name": "python",
   "nbconvert_exporter": "python",
   "pygments_lexer": "ipython3",
   "version": "3.8.6"
  }
 },
 "nbformat": 4,
 "nbformat_minor": 2
}
